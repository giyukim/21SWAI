{
 "cells": [
  {
   "cell_type": "code",
   "execution_count": 2,
   "metadata": {},
   "outputs": [],
   "source": [
    "import tensorflow as tf\n",
    "import numpy as np\n",
    "import matplotlib.pyplot as plt\n",
    "import FinanceDataReader as fdr\n",
    "import datetime as dt\n",
    "import pandas as pd"
   ]
  },
  {
   "cell_type": "code",
   "execution_count": 4,
   "metadata": {},
   "outputs": [],
   "source": [
    "seq_length = 7\n",
    "data_dim = 5\n",
    "output_dim = 1\n",
    "learning_rate = 0.01\n",
    "epoch = 10"
   ]
  },
  {
   "cell_type": "code",
   "execution_count": 64,
   "metadata": {},
   "outputs": [
    {
     "name": "stdout",
     "output_type": "stream",
     "text": [
      "[[   67100    68300    67100 18872326    68200]\n",
      " [   68400    68600    66700 43811016    66700]\n",
      " [   68000    68400    67600 14063434    68200]\n",
      " ...\n",
      " [   16580    16820    16520   459755    16820]\n",
      " [   16520    16580    16300   559219    16440]\n",
      " [   16060    16180    16000   239271    16180]]\n"
     ]
    }
   ],
   "source": [
    "stock_code = '005930'\n",
    "crlng_year = '2010'\n",
    "Time = str(dt.datetime.now())[:19]\n",
    "Time = Time.replace('-', '')\n",
    "Time = Time.replace(':', '')\n",
    "Time = Time.replace(' ', '')\n",
    "\n",
    "df = fdr.DataReader(stock_code, crlng_year)\n",
    "df.to_csv(Time + '-' + stock_code + '-' + crlng_year + '.csv', sep=',', na_rep='NaN')\n",
    "\n",
    "dataframe = pd.read_csv(Time + '-' + stock_code + '-' + crlng_year + '.csv', delimiter = ',', header = 0)\n",
    "\n",
    "del dataframe[\"Change\"]\n",
    "del dataframe[\"Date\"]\n",
    "dataframe = dataframe[['Open', 'High', 'Low', 'Volume', 'Close']]\n",
    "\n",
    "xy = dataframe.to_numpy()\n",
    "xy = xy[::-1]\n",
    "print(xy)\n",
    "\n",
    "train_size = int(len(xy) * 0.7)\n",
    "train_set = xy[0:train_size]\n",
    "test_set = xy[train_size - seq_length:]"
   ]
  },
  {
   "cell_type": "code",
   "execution_count": 65,
   "metadata": {},
   "outputs": [],
   "source": [
    "def MinMaxScaler(data):\n",
    "    numerator = data - np.min(data, 0)\n",
    "    denominator = np.max(data, 0) - np.min(data, 0)\n",
    "    \n",
    "    return numerator / (denominator + 1e-7)"
   ]
  },
  {
   "cell_type": "code",
   "execution_count": 66,
   "metadata": {},
   "outputs": [],
   "source": [
    "train_set = MinMaxScaler(train_set)\n",
    "test_set = MinMaxScaler(test_set)"
   ]
  },
  {
   "cell_type": "code",
   "execution_count": 67,
   "metadata": {},
   "outputs": [],
   "source": [
    "def build_dataset(time_series, seq_length):\n",
    "    dataX = []\n",
    "    dataY = []\n",
    "    for i in range(0, len(time_series) - seq_length):\n",
    "        x = time_series[i:i + seq_length, :]\n",
    "        y = time_series[i + seq_length, [-1]]\n",
    "        print(x, \"->\", y)\n",
    "        dataX.append(x)\n",
    "        dataY.append(y)\n",
    "    \n",
    "    return np.array(dataX), np.array(dataY)"
   ]
  },
  {
   "cell_type": "code",
   "execution_count": 5,
   "metadata": {},
   "outputs": [
    {
     "ename": "NameError",
     "evalue": "name 'build_dataset' is not defined",
     "output_type": "error",
     "traceback": [
      "\u001b[1;31m---------------------------------------------------------------------------\u001b[0m",
      "\u001b[1;31mNameError\u001b[0m                                 Traceback (most recent call last)",
      "\u001b[1;32m<ipython-input-5-58b7e05f248a>\u001b[0m in \u001b[0;36m<module>\u001b[1;34m\u001b[0m\n\u001b[1;32m----> 1\u001b[1;33m \u001b[0mtrainX\u001b[0m\u001b[1;33m,\u001b[0m \u001b[0mtrainY\u001b[0m \u001b[1;33m=\u001b[0m \u001b[0mbuild_dataset\u001b[0m\u001b[1;33m(\u001b[0m\u001b[0mtrain_set\u001b[0m\u001b[1;33m,\u001b[0m \u001b[0mseq_length\u001b[0m\u001b[1;33m)\u001b[0m\u001b[1;33m\u001b[0m\u001b[1;33m\u001b[0m\u001b[0m\n\u001b[0m\u001b[0;32m      2\u001b[0m \u001b[0mtestX\u001b[0m\u001b[1;33m,\u001b[0m \u001b[0mtestY\u001b[0m \u001b[1;33m=\u001b[0m \u001b[0mbuild_dataset\u001b[0m\u001b[1;33m(\u001b[0m\u001b[0mtest_set\u001b[0m\u001b[1;33m,\u001b[0m \u001b[0mseq_length\u001b[0m\u001b[1;33m)\u001b[0m\u001b[1;33m\u001b[0m\u001b[1;33m\u001b[0m\u001b[0m\n",
      "\u001b[1;31mNameError\u001b[0m: name 'build_dataset' is not defined"
     ]
    }
   ],
   "source": [
    "trainX, trainY = build_dataset(train_set, seq_length)\n",
    "testX, testY = build_dataset(test_set, seq_length)"
   ]
  },
  {
   "cell_type": "code",
   "execution_count": 69,
   "metadata": {},
   "outputs": [
    {
     "name": "stdout",
     "output_type": "stream",
     "text": [
      "(1878, 7, 5) (1878, 1)\n"
     ]
    }
   ],
   "source": [
    "print(trainX.shape, trainY.shape)"
   ]
  },
  {
   "cell_type": "code",
   "execution_count": 6,
   "metadata": {},
   "outputs": [
    {
     "name": "stdout",
     "output_type": "stream",
     "text": [
      "Model: \"sequential_1\"\n",
      "_________________________________________________________________\n",
      "Layer (type)                 Output Shape              Param #   \n",
      "=================================================================\n",
      "lstm (LSTM)                  (None, 1)                 28        \n",
      "_________________________________________________________________\n",
      "dense (Dense)                (None, 1)                 2         \n",
      "=================================================================\n",
      "Total params: 30\n",
      "Trainable params: 30\n",
      "Non-trainable params: 0\n",
      "_________________________________________________________________\n",
      "None\n"
     ]
    }
   ],
   "source": [
    "tf.model = tf.keras.Sequential()\n",
    "tf.model.add(tf.keras.layers.LSTM(units = 1, input_shape =  (seq_length, data_dim)))\n",
    "tf.model.add(tf.keras.layers.Dense(units = output_dim, activation = \"tanh\"))\n",
    "\n",
    "print(tf.model.summary())"
   ]
  },
  {
   "cell_type": "code",
   "execution_count": 75,
   "metadata": {
    "scrolled": true
   },
   "outputs": [
    {
     "name": "stdout",
     "output_type": "stream",
     "text": [
      "Epoch 1/10\n",
      "59/59 [==============================] - 0s 2ms/step - loss: 1.2590e-04\n",
      "Epoch 2/10\n",
      "59/59 [==============================] - 0s 2ms/step - loss: 9.6608e-05\n",
      "Epoch 3/10\n",
      "59/59 [==============================] - 0s 2ms/step - loss: 9.6374e-05\n",
      "Epoch 4/10\n",
      "59/59 [==============================] - 0s 2ms/step - loss: 1.0072e-04\n",
      "Epoch 5/10\n",
      "59/59 [==============================] - 0s 2ms/step - loss: 9.7444e-05\n",
      "Epoch 6/10\n",
      "59/59 [==============================] - 0s 2ms/step - loss: 1.1424e-04\n",
      "Epoch 7/10\n",
      "59/59 [==============================] - 0s 2ms/step - loss: 1.0082e-04\n",
      "Epoch 8/10\n",
      "59/59 [==============================] - 0s 2ms/step - loss: 1.0792e-04\n",
      "Epoch 9/10\n",
      "59/59 [==============================] - 0s 2ms/step - loss: 1.0479e-04\n",
      "Epoch 10/10\n",
      "59/59 [==============================] - 0s 2ms/step - loss: 1.3647e-04\n"
     ]
    },
    {
     "data": {
      "text/plain": [
       "<tensorflow.python.keras.callbacks.History at 0x258fb6fdc10>"
      ]
     },
     "execution_count": 75,
     "metadata": {},
     "output_type": "execute_result"
    }
   ],
   "source": [
    "tf.model.compile(loss = 'mean_squared_error', optimizer = tf.keras.optimizers.Adam(lr = learning_rate))\n",
    "tf.model.fit(trainX, trainY, epochs = epoch)"
   ]
  },
  {
   "cell_type": "code",
   "execution_count": 76,
   "metadata": {},
   "outputs": [],
   "source": [
    "test_predict = tf.model.predict(testX)"
   ]
  },
  {
   "cell_type": "code",
   "execution_count": 77,
   "metadata": {},
   "outputs": [
    {
     "data": {
      "image/png": "[encoded data removed]",
      "text/plain": [
       "<Figure size 432x288 with 1 Axes>"
      ]
     },
     "metadata": {
      "needs_background": "light"
     },
     "output_type": "display_data"
    }
   ],
   "source": [
    "plt.plot(testY)\n",
    "plt.plot(test_predict)\n",
    "plt.xlabel(\"Time Period\")\n",
    "plt.ylabel(\"Stock Price\")\n",
    "plt.show()"
   ]
  },
  {
   "cell_type": "code",
   "execution_count": null,
   "metadata": {},
   "outputs": [],
   "source": []
  }
 ],
 "metadata": {
  "kernelspec": {
   "display_name": "Python [conda env:py38_1] *",
   "language": "python",
   "name": "conda-env-py38_1-py"
  },
  "language_info": {
   "codemirror_mode": {
    "name": "ipython",
    "version": 3
   },
   "file_extension": ".py",
   "mimetype": "text/x-python",
   "name": "python",
   "nbconvert_exporter": "python",
   "pygments_lexer": "ipython3",
   "version": "3.8.5"
  }
 },
 "nbformat": 4,
 "nbformat_minor": 4
}
